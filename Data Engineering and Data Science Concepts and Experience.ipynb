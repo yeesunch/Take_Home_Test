{
 "cells": [
  {
   "cell_type": "markdown",
   "id": "a613228f",
   "metadata": {},
   "source": [
    "# Data Engineering and Data Science Concepts and Experience\n"
   ]
  },
  {
   "cell_type": "markdown",
   "id": "d00977b8",
   "metadata": {},
   "source": [
    "### Question 1. Feedback Loop"
   ]
  },
  {
   "cell_type": "markdown",
   "id": "25e6ad15",
   "metadata": {},
   "source": [
    "How would you build a feedback loop to monitor and increase customer growth over time? Try to give a specific example specifying types of data sets, metrics, and processes."
   ]
  },
  {
   "cell_type": "markdown",
   "id": "1c6fafe9",
   "metadata": {},
   "source": [
    "**Answer** <br>\n",
    "There are 4 stages in the customer feedback loop: <br>\n",
    "1. Collecting customer feedback\n",
    "2. Analyzing the feedback\n",
    "3. Apply feedback and testing\n",
    "4. Follow-up with customers"
   ]
  },
  {
   "cell_type": "markdown",
   "id": "2fd6d759",
   "metadata": {},
   "source": [
    "#### 1. Collecting Customer Feedback\n",
    "\n",
    "It is very important for us to ask for customer feedback and understand what drives their satisfaction. Returning customers helps to grow a business fast and their recommendations would attract more new customers.\n",
    "\n",
    "There are three scenarios we should pay attention to:\n",
    "1. Overall trends in customer satisfaction over time\n",
    "2. Service issues\n",
    "3. Product issues\n",
    "\n",
    "To collect the information above, there are some common ways:\n",
    "* Customer surverys\n",
    "* Live chat\n",
    "* Social media monitoring\n",
    "* Feature request boards\n",
    "\n",
    "<br><br>\n",
    "**Metrics** <br><br>\n",
    "There are 4 types of metrics help to measure customers' satisfaction with overall process, services or products:\n",
    "* Net Promoter Score (NPS)\n",
    "* Customer Satisfaction Score (CSAT)\n",
    "* Customer Effort Scores (CES)\n",
    "* Social Media Monitoring\n",
    "\n",
    "\n",
    "\n",
    "1) _Net Promoter Score (NPS)_ <br>\n",
    "Customers are give a question with a scale of 1 to 10 (Detractors 0-6, Passives 7-8, Promoters 9-10) for measuring the likelihood a person will recommend the product or service <br>\n",
    "**NPS = percentage of promoters - percentage of detractors**\n",
    "\n",
    "2) _Customer Satisfaction Score (CSAT)_ <br>\n",
    "Customers are given a question with emojis, text, stars or numeric rating scales to determine how helpful the solution was for the customer <br>\n",
    "**CSAT = percentage of customers who are satisfied**\n",
    "\n",
    "3) _Customer Effort Scores (CES)_ <br>\n",
    "Customers are given  a question with emojis, text, stars or numeric rating scales to measure how easy or difficult for customers to interact with services and products <br>\n",
    "Due to the varied types of scales, we just calculate the **average**\n",
    "\n",
    "4) _Social Media Monitoring_ <br> \n",
    "There are tools and NLP models for us to analyze customers' **sentiment** (positive/neutral/negative)"
   ]
  },
  {
   "cell_type": "markdown",
   "id": "03dac96c",
   "metadata": {},
   "source": [
    "**Example** <br>\n",
    "The data sets may have following variables: <br>\n",
    "* user_id,customer_id, transaction_id\n",
    "* sign_in_date, transaction_date\n",
    "* transaction_location_coordinates, location_coordinates\n",
    "* product_type, transaction_amount\n",
    "* NPS, CSAT, CES\n"
   ]
  },
  {
   "cell_type": "markdown",
   "id": "e5ed22c6",
   "metadata": {},
   "source": [
    "#### 2. Analyzing the Feedback\n",
    "\n",
    "To monitor the overall trends in customer satisfaction, we could track the time-series data of **NPS**. Also, we could build a dashboard to describe the change of distribution of promoters/passives/detractors over time.\n",
    "\n",
    "To assess the quality of service, **CSAT** is a great metric. Due to the varied types of scales, the calculation of CSAT might vary. The question ask customers how satisfied they were with the whole support interaction and we calculate the percentage of customers who showed satisfction.\n",
    "\n",
    "To evaluate how much effort was required by customers to ge their problem solved or how easily to use the product, **CES** really helps. It also has a high correlation with future customer loyalty."
   ]
  },
  {
   "cell_type": "markdown",
   "id": "872ed0d0",
   "metadata": {},
   "source": [
    "#### 3. Apply the Feedback and testing\n",
    "\n",
    "Based on our analysis of metrics, we share the feedback with product team, customer support team and marketing & sales team at intervals (real time / daily / weekly / monthly). Each time they made a change on the product or service, we could do the analysis on time and compared with previous results.\n",
    "\n",
    "In this step, we could build a dashboad to present analysis of the feedback internally."
   ]
  },
  {
   "cell_type": "markdown",
   "id": "1dcdbf13",
   "metadata": {},
   "source": [
    "#### 4. Follow-up with Customers\n",
    "\n",
    "There are some ways to follow up with the customers to notify them that a problem has been fixed or a suggestion has been implemented. The most common way is to send thank-you letters to customers who offered extremely valuable feedback, provided very actionable data.\n",
    "\n",
    "In this step, we could monitor how many problems have been solved. Furthermore, we could track the behaviors of those customers who received thank-you letters and see if they become returning customers."
   ]
  },
  {
   "cell_type": "markdown",
   "id": "11be47d0",
   "metadata": {},
   "source": [
    "### Question 2. Process to Monitor/Improve Customer Growth"
   ]
  },
  {
   "cell_type": "markdown",
   "id": "2acbea4a",
   "metadata": {},
   "source": [
    "Regarding the above example, write pseudocode for a process to monitor and/or improve customer growth given the following data sets:  <br>\n",
    "A)\tcustomer location with columns: device id, location coordinates, date  <br>\n",
    "B)\tevent data with columns: user id, device id, sign in date  <br>\n",
    "C)\tcustomer purchase transactions: user_id, transaction date, transaction location coordinates, product type  <br>\n"
   ]
  },
  {
   "cell_type": "markdown",
   "id": "a019bda4",
   "metadata": {},
   "source": [
    "**Answer** <br>\n",
    "First, we could write a SQL query to join these tables. <br>"
   ]
  },
  {
   "cell_type": "code",
   "execution_count": 15,
   "id": "383e639a",
   "metadata": {},
   "outputs": [],
   "source": [
    "# SELECT *\n",
    "# FROM customer_purchase_transactions \n",
    "# LEFT JOIN event_data\n",
    "# USING(user_id)\n",
    "# LEFT JOIN customer_location\n",
    "# USING(devide_id);"
   ]
  },
  {
   "cell_type": "markdown",
   "id": "a22020fa",
   "metadata": {},
   "source": [
    "Then we could analyze the data and calculate following metrics:\n",
    "* Time Intervals\n",
    "    1. First time Purchase - What is the time intervals between their sign in date and first service date\n",
    "    2. Time Between Purchases - 365 / (Number of orders / Number of unique customers)\n",
    "<br><br>\n",
    "\n",
    "* Customers\n",
    "    1. Customer Churn Rate - Percentage of customers stop purchase\n",
    "    2. Loyal Customer Rate - Number of Repeat Customers / Total Customers\n",
    "    3. Repeat Purchase Ratio - Number of returning customers / Number of total customers withing a given period\n",
    "<br><br>\n",
    "\n",
    "* Product\n",
    "    1. We could calculate all metrics above within different product types\n",
    "<br><br>\n",
    "\n",
    "* Location\n",
    "    1. Distance between customer and transaction location - linear distance between use customer location coordinates and transaction location coordinates\n",
    "    2. District that has most customers\n"
   ]
  },
  {
   "cell_type": "markdown",
   "id": "2a76432d",
   "metadata": {},
   "source": [
    "**Pseudocode**\n",
    "\n",
    "we could use either SQL or Python/PySpark to calculate and analyze above metrics on rolling basis. That is, the start date and end date for calculation will change over time. Then we are able to monitor the trend of these metrics and identify potential problems.\n",
    "\n",
    "1) **First time purchase** <br>\n",
    "= Sign in date - minimum transaction date GROUP BY customer <br>\n",
    "Then we could visualize and analyze the distribution of this metric. If it is too long for a customer to start their first purchase, then it is probably because they think the product is not user-friendly enough or not as good as before. <br>\n",
    "\n",
    "2) **Time Between Purchases** <br>\n",
    "= 365 / (Count of transactions / Count of DISTINCT customers WHERE transaction date IS BETWEEN now - 365 days and Now)\n",
    "\n",
    "3) **Customer Churn Rate** <br>\n",
    "=  Count of customers who didn't purchase / Count of DISTINCT customers <br>\n",
    "If this rate is high or increasing, it is probably because customers are not satisfied with the quality of product/service.\n",
    "\n",
    "4) **Loyal Customer Rate** <br>\n",
    "= Count of customers who purchase more than once / Count of DISTINCT customers <br>\n",
    "We expect this rate to be increasing or at least stay in current level.\n",
    "\n",
    "5) **Repeat Purchase Ratio** <br> \n",
    "= Count of customers who purchase more than once / Count of customers WHERE transaction date is BETWEEN now - 30/60/90/120/365 days and now <br>\n",
    "This is also a good indicator of customers' loyality, but it might be seasonal or change dramatically due to some special events.\n",
    "\n",
    "6) **Distance between customer and transaction location** <br>\n",
    "- suppose customer location coordinates is $(x_1, y_1)$ and transaction location coordinates is $(x_2, y_2)$\n",
    "    * Manhattan distance - $|x_2 - x_1| + |y_2 - y_1|$\n",
    "    * Euclidean distance - $ \\sqrt{(x_2 - x_1)^2 + (y_2 - y_1)^2}$ <br>\n",
    "\n",
    "This metric is not a direct estimate of customers' satisfaction, but it could be used to do further analysis. We could probably find relationships between this metric and other metrics.\n",
    "\n",
    "7) **District that has higher customer satisfaction** <br>\n",
    "To calculate this metric, we need additional information from external data. We could divide the area into different districts and then calculate growth of new customers / loyal customer rate in different districts based on their coordinates. This metric will help to find the reason of customers' satisfaction in order to help with growth of new customers and returning customers.\n"
   ]
  },
  {
   "cell_type": "markdown",
   "id": "7dd6df5e",
   "metadata": {},
   "source": [
    "### Question 3. Biggest Source of Bias"
   ]
  },
  {
   "cell_type": "markdown",
   "id": "ee3c8caf",
   "metadata": {},
   "source": [
    "In the example for question 1, what are the biggest sources of bias that might occur and what could be done to handle those biases?"
   ]
  },
  {
   "cell_type": "markdown",
   "id": "e4bce0ff",
   "metadata": {},
   "source": [
    "**Answer** <br>\n",
    "* Culture bias - same score in different countries means something different\n",
    "* Response bias - those who are very satisfied and very unsatisfied tend to respond to the survey\n",
    "* Time bias - because the score only reflect how a customer felt at the last touchpoint\n",
    "* Benchmark bias - satisfaction is subjective and may mean diferent things to different people\n"
   ]
  },
  {
   "cell_type": "markdown",
   "id": "c40244ab",
   "metadata": {},
   "source": [
    "### Question 4. Correlation in Linear Regression"
   ]
  },
  {
   "cell_type": "markdown",
   "id": "d9765747",
   "metadata": {},
   "source": [
    "When assessing a set of data to build a linear regression model, you find that two variables, a and b, independently correlate with your target variable, t, with values of 0.85 and 0.80, respectively. If you build a model with variables a and b as input to predict t, would you expect that model to predict t with a correlation:  <br>\n",
    "A) above 0.85  <br>\n",
    "B) around 0.85 and 0.80  <br>\n",
    "C) below 0.80 <br>  \n",
    "How would you justify your answer?"
   ]
  },
  {
   "cell_type": "markdown",
   "id": "55a921ac",
   "metadata": {},
   "source": [
    "**Answer** <br>\n",
    "A) above 0.85 is correct\n",
    "\n",
    "In this questions, we could explain it with \"Inflation of $R^2$\", which means that $R^2$ is at least weakly increasing with increases in the number of regressors in the model.\n",
    "\n",
    "We know that $corr(a, t) = 0.85, corr(b, t) = 0.8$. It means that if we run a simple linear regression model to predict t with only a, then the $R^2$ of this model equals to $corr(a, t)^2 = 0.85^2$. Now if we add b as the second independent variable, the $R^2$ of this model will increase due to inflation of the $R^2$. Therefore, the new $R^2 > 0.85^2$. Also, both a and b are positive correlated with t, then the linear combination of a and b should also be positive correlated with t. Then the correlation between t and predicted value is positive and greater than 0.85.\n"
   ]
  },
  {
   "cell_type": "markdown",
   "id": "230788e6",
   "metadata": {},
   "source": [
    "**To justify my answer**, we first demonstrate it with the property of linear regression and then run a simulation to prove.\n",
    "\n",
    "Recall the objective of least squares linear regression is \n",
    "$$\\min_{\\beta} SS_{res}(\\beta) => \\min_{\\beta}\\sum_i{(y_i - X_i \\beta)}$$\n",
    "\n",
    "The optimal value of the objective is weakly smaller as more independent variables are added and hence additional columns of X are added, by the fact that less constrained minimization leads to an optimal cost which is weakly smaller than more constrained minimization does. Given the previous conclusion and noting that $SS_{total}$ depends only on y, the non-decreasing property of $R^2$ is demonstrated.\n",
    "\n",
    "We could also explain it intuitively.\n",
    "$$\\min_{\\beta} SS_{res}(\\beta) => \\max_{\\beta} R^2$$\n",
    "When additional independent variable is included, it is more likely to find a larger $R^2$ - at least we could assign 0 coefficient to new variable and maintain current value of $R^2$."
   ]
  },
  {
   "cell_type": "markdown",
   "id": "433c1cc4",
   "metadata": {},
   "source": [
    "Now we run a simulation to generate data of a, b, t, predicted_t and observe the correlation between t and predicted_t."
   ]
  },
  {
   "cell_type": "code",
   "execution_count": 16,
   "id": "83be6685",
   "metadata": {},
   "outputs": [],
   "source": [
    "# Import libraries\n",
    "import numpy as np\n",
    "import pandas as pd\n",
    "from scipy.linalg import cholesky\n",
    "from scipy.stats import pearsonr\n",
    "from sklearn.linear_model import LinearRegression\n",
    "import matplotlib.pyplot as plt"
   ]
  },
  {
   "cell_type": "code",
   "execution_count": 17,
   "id": "60858377",
   "metadata": {},
   "outputs": [],
   "source": [
    "# Run Simulation\n",
    "rA = 0.85\n",
    "rB = 0.8\n",
    "dev = 0.02 # Allowed deviation of correlation\n",
    "corr_AB = np.linspace(0.6, 0.85, 100) # Correlation between a and b for generating random datasets\n",
    "sim_num = 10 # Number of datasets generated with same correlation AB\n",
    "output = []\n",
    "\n",
    "for corrAB in corr_AB:\n",
    "    # Correlation matrix\n",
    "    corr_mat = np.array([[1.0, rA, rB],\n",
    "                        [rA, 1.0, corrAB],\n",
    "                        [rB, corrAB, 1.0]])\n",
    "    upper_chol = cholesky(corr_mat)\n",
    "    \n",
    "    sim_count = 0 # Reset count of simulations\n",
    "    while sim_count < sim_num:\n",
    "        rnd = np.random.normal(0.0, 1.0, size=(10 ** 2, 3)) # Generate a, b, t with length 100\n",
    "        ans = rnd @ upper_chol\n",
    "        A, B, t = ans[:,0], ans[:,1], ans[:, 2]\n",
    "        X = ans[:, :2]\n",
    "        \n",
    "        # Check generated correlation\n",
    "        corrA = pearsonr(t, A)[0]\n",
    "        corrB = pearsonr(t, B)[0]\n",
    "        # Check if generated 0.85 - 0.02 <= corrA <= 0.85 + 0.02 & 0.8 - 0.02 <= corrB <= 0.8 + 0.02\n",
    "        if round(corrA, 2) >= rA - dev and round(corrA, 2) <= rA + dev and round(corrB, 2) >= rB - dev and round(corrB, 2) <= rB + dev:\n",
    "            sim_count += 1\n",
    "            reg = LinearRegression().fit(X, t) # Run regression\n",
    "            t_pred = reg.predict(X)\n",
    "            corr, _ = pearsonr(t, t_pred)\n",
    "            output.append([corrAB, corr, corrA, corrB])\n",
    "\n",
    "corr_df = pd.DataFrame(output, columns = ['corrAB', 'corr', 'corrA', 'corrB'])"
   ]
  },
  {
   "cell_type": "markdown",
   "id": "5d2a880e",
   "metadata": {},
   "source": [
    "Now we plot the distribution of correlation between predicted_t and t. It is obvious that all correlations are larger than 0.83 (we allow corr(a, t) $\\in$ [0.85 - 0.02, 0.85 + 0.02])."
   ]
  },
  {
   "cell_type": "code",
   "execution_count": 18,
   "id": "7d56e25b",
   "metadata": {},
   "outputs": [
    {
     "data": {
      "text/plain": [
       "Text(0.5, 1.0, 'Distribution of new correlation')"
      ]
     },
     "execution_count": 18,
     "metadata": {},
     "output_type": "execute_result"
    },
    {
     "data": {
      "image/png": "[encoded data removed]",
      "text/plain": [
       "<Figure size 432x288 with 1 Axes>"
      ]
     },
     "metadata": {
      "needs_background": "light"
     },
     "output_type": "display_data"
    }
   ],
   "source": [
    "# Plot distribution of new correlation\n",
    "corr_df['corr'].hist()\n",
    "plt.xlabel('corr(pred, t)')\n",
    "plt.ylabel('Frequency')\n",
    "plt.title(\"Distribution of new correlation\")"
   ]
  },
  {
   "cell_type": "markdown",
   "id": "bac525c8",
   "metadata": {},
   "source": [
    "Then we check the relationship between new correlation and corr(a, t), corr(b, t). From the graphs, it is obvious that new correlation is always larger than corr(a, t) and corr(b, t) hence proved that it is greater than 0.85 if corr(a, t) = 0.85"
   ]
  },
  {
   "cell_type": "code",
   "execution_count": 19,
   "id": "15388c9d",
   "metadata": {},
   "outputs": [
    {
     "data": {
      "text/plain": [
       "Text(0.5, 1.0, 'corr(a, t) vs. corr(pred, t)')"
      ]
     },
     "execution_count": 19,
     "metadata": {},
     "output_type": "execute_result"
    },
    {
     "data": {
      "image/png": "[encoded data removed]",
      "text/plain": [
       "<Figure size 432x288 with 1 Axes>"
      ]
     },
     "metadata": {
      "needs_background": "light"
     },
     "output_type": "display_data"
    }
   ],
   "source": [
    "# corr(a, t)  vs. corr(pred, t)\n",
    "lineA = np.linspace(0.82, 0.88, 100)\n",
    "plt.plot(lineA, lineA) # y = x\n",
    "\n",
    "plt.scatter(corr_df['corrA'], corr_df['corr'])\n",
    "plt.xlabel('corr(a, t)')\n",
    "plt.ylabel('corr(pred, t)')\n",
    "plt.title(\"corr(a, t) vs. corr(pred, t)\")"
   ]
  },
  {
   "cell_type": "code",
   "execution_count": 20,
   "id": "5b0f5ea4",
   "metadata": {},
   "outputs": [
    {
     "data": {
      "text/plain": [
       "Text(0.5, 1.0, 'corr(b, t) vs. corr(pred, t)')"
      ]
     },
     "execution_count": 20,
     "metadata": {},
     "output_type": "execute_result"
    },
    {
     "data": {
      "image/png": "[encoded data removed]",
      "text/plain": [
       "<Figure size 432x288 with 1 Axes>"
      ]
     },
     "metadata": {
      "needs_background": "light"
     },
     "output_type": "display_data"
    }
   ],
   "source": [
    "# corr(b, t)  vs. corr(pred, t)\n",
    "lineB = np.linspace(0.77, 0.84, 100)\n",
    "plt.plot(lineB, lineB) # y = x\n",
    "\n",
    "plt.scatter(corr_df['corrB'], corr_df['corr'])\n",
    "plt.xlabel('corr(b, t)')\n",
    "plt.ylabel('corr(pred, t)')\n",
    "plt.title(\"corr(b, t) vs. corr(pred, t)\")"
   ]
  }
 ],
 "metadata": {
  "kernelspec": {
   "display_name": "Python 3",
   "language": "python",
   "name": "python3"
  },
  "language_info": {
   "codemirror_mode": {
    "name": "ipython",
    "version": 3
   },
   "file_extension": ".py",
   "mimetype": "text/x-python",
   "name": "python",
   "nbconvert_exporter": "python",
   "pygments_lexer": "ipython3",
   "version": "3.8.5"
  },
  "toc": {
   "base_numbering": 1,
   "nav_menu": {},
   "number_sections": false,
   "sideBar": true,
   "skip_h1_title": false,
   "title_cell": "Table of Contents",
   "title_sidebar": "Contents",
   "toc_cell": false,
   "toc_position": {},
   "toc_section_display": true,
   "toc_window_display": true
  }
 },
 "nbformat": 4,
 "nbformat_minor": 5
}
